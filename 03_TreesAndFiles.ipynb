{
 "cells": [
  {
   "cell_type": "markdown",
   "metadata": {},
   "source": [
    "# The ROOT file"
   ]
  },
  {
   "cell_type": "markdown",
   "metadata": {},
   "source": [
    "* With ROOT, objects can be written to files\n",
    "\n",
    "* ROOT provides its own file class, [TFile](https://root.cern/doc/master/classTFile.html), to interact with these files\n",
    "\n",
    "* ROOT files are _binary_ and can be transparently _compressed_ to reduce disk usage\n",
    "\n",
    "* ROOT files have a logical “file-system-like” structure\n",
    "\n",
    "  * E.g. a directory hierarchy"
   ]
  },
  {
   "cell_type": "markdown",
   "metadata": {},
   "source": [
    "\n",
    "This is how you create a `TFile`:"
   ]
  },
  {
   "cell_type": "code",
   "execution_count": null,
   "metadata": {},
   "outputs": [],
   "source": [
    "TFile * f = new TFile(\"my_file.root\", \"RECREATE\")"
   ]
  },
  {
   "cell_type": "markdown",
   "metadata": {},
   "source": [
    "<center><img src=\"img/tfile1.png\"><center>"
   ]
  },
  {
   "cell_type": "markdown",
   "metadata": {},
   "source": [
    "and how you close it (note that when `f` is destroyed, the file is closed automatically):"
   ]
  },
  {
   "cell_type": "code",
   "execution_count": null,
   "metadata": {},
   "outputs": [],
   "source": [
    "f->Close()"
   ]
  },
  {
   "cell_type": "markdown",
   "metadata": {},
   "source": [
    "- The file we've just created is empty, let's actually write something in it this time.\n",
    "\n",
    "- We will write a histogram object in it. \n",
    "\n",
    "- Note how we create the histogram after creating the file, we write the histogram and we finally close the file."
   ]
  },
  {
   "cell_type": "code",
   "execution_count": null,
   "metadata": {},
   "outputs": [],
   "source": [
    "TFile * f = new TFile(\"my_file.root\", \"RECREATE\");\n",
    "auto hist = new TH1F(\"my_histo\", \"Example histogram\", 100, -4, 4);\n",
    "f->cd();\n",
    "hist->Write();\n",
    "f->Close();"
   ]
  },
  {
   "cell_type": "markdown",
   "metadata": {},
   "source": [
    "# Read a file"
   ]
  },
  {
   "cell_type": "markdown",
   "metadata": {},
   "source": [
    "Let's open a file `data/hsimple.root` and plot histograms from it\n"
   ]
  },
  {
   "cell_type": "code",
   "execution_count": null,
   "metadata": {},
   "outputs": [],
   "source": [
    "TFile inputfile(\"data/hsimple.root\");   \n",
    "inputfile.ls();"
   ]
  },
  {
   "cell_type": "code",
   "execution_count": null,
   "metadata": {},
   "outputs": [],
   "source": [
    "%jsroot on"
   ]
  },
  {
   "cell_type": "code",
   "execution_count": null,
   "metadata": {},
   "outputs": [],
   "source": [
    "\n",
    "\n",
    "// Get the histograms and the profile from the file\n",
    "auto hpx = (TH1F*)inputfile.Get(\"hpx\"); // \n",
    "auto hpxpy = (TH2F*)inputfile.Get(\"hpxpy\");\n",
    "auto hprof = (TProfile*)inputfile.Get(\"hprof\");\n",
    "\n",
    "\n",
    "\n",
    "// Create a canvas and divide it\n",
    "TCanvas *can = new TCanvas(\"can\",\"A Simple Graph Example\",1200,500);\n",
    "can->Divide(3,1); // 3 columns, 1 row\n",
    "\n",
    "can->cd(1);\n",
    "hpx->Draw();\n",
    "\n",
    "can->cd(2);\n",
    "hpxpy->Draw(\"colz\");\n",
    "\n",
    "can->cd(3);\n",
    "hprof->Draw();\n",
    "can->Draw();"
   ]
  },
  {
   "cell_type": "markdown",
   "metadata": {},
   "source": [
    "# Trees\n"
   ]
  },
  {
   "cell_type": "markdown",
   "metadata": {},
   "source": [
    "## The HEP dataset\n",
    "\n",
    "High Energy Physics data is made of many statistically independent collision events. \n",
    "\n",
    "Laying data into an \"event class\", then serialise and write out `N` instances of the class into a file would be very inefficient. \n",
    "\n",
    "In ROOT, a dataset is organised columns that can store elements of any C++ type:\n",
    "* fundamental types: `int`, `float`\n",
    "* C++ standard collections: `std::vector`, `std::map`\n",
    "* User created C++ classes\n",
    "\n",
    "The ROOT dataset is represented by the `TTree` class and is often simply called a tree. Columns in the dataset are instances of the `TBranch` class (often referred to as \"branches\").\n",
    "\n",
    "<center><img src=\"img/dataset.png\"></center>"
   ]
  },
  {
   "cell_type": "markdown",
   "metadata": {},
   "source": [
    "- A `TTree` dataset can be written to a `TFile` (just like any other C++ object). \n",
    "\n",
    "- The ROOT format is logically and physically (on disk) a columnar format. \n",
    "\n",
    "- Different columns can be read from disk independently. \n",
    "\n",
    "- This translates into faster IO performance with respect to other dataset formats (HDF5, SQL)."
   ]
  },
  {
   "cell_type": "code",
   "execution_count": null,
   "metadata": {},
   "outputs": [],
   "source": [
    "TTree *tree = (TTree*)inputfile.Get(\"ntuple\");\n",
    "cout << \"Number of entries in the tree: \" << tree->GetEntries() << endl;\n",
    "tree->Show(0);\n",
    "tree->Show(20);"
   ]
  },
  {
   "cell_type": "markdown",
   "metadata": {},
   "source": [
    "There are many ways to access the data in the tree\n",
    "\n",
    "### 1. Using the TTree::Draw method (fast check distributions)"
   ]
  },
  {
   "cell_type": "code",
   "execution_count": null,
   "metadata": {},
   "outputs": [],
   "source": [
    "can->cd(); // Go back to the main canvas\n",
    "tree->Draw(\"px\");\n",
    "can->Draw();\n"
   ]
  },
  {
   "cell_type": "code",
   "execution_count": null,
   "metadata": {},
   "outputs": [],
   "source": [
    "// if want to specify  a histogram to fill and operate on later\n",
    "TH1D *hist1 = new TH1D(\"hist1\",\"\",100,-5,5);\n",
    "tree->Draw(\"px>>hist1\");\n",
    "hist1->Draw();\n",
    "can->Draw();"
   ]
  },
  {
   "cell_type": "markdown",
   "metadata": {},
   "source": [
    "We can also apply some cuts on data"
   ]
  },
  {
   "cell_type": "code",
   "execution_count": null,
   "metadata": {},
   "outputs": [],
   "source": [
    "\n",
    "tree->Draw(\"px\",\"pz>1\");\n",
    "can->Draw();"
   ]
  },
  {
   "cell_type": "markdown",
   "metadata": {},
   "source": [
    "Suitable for 2D as well, with draw option on third place, and maximum number of entries on the last place"
   ]
  },
  {
   "cell_type": "code",
   "execution_count": null,
   "metadata": {},
   "outputs": [],
   "source": [
    "TH2D *hist2 = new TH2D(\"hist2\",\";px;pz\",50,-3,3,50,0,10);\n",
    "Int_t nEntryStop = 2000;\n",
    "tree->Draw(\"pz:px>>hist2\",\" \",\"colz\",nEntryStop); // \n",
    "can->Draw();"
   ]
  },
  {
   "cell_type": "markdown",
   "metadata": {},
   "source": [
    "### 2. Using the TTree::GetEntry method (old method, but everyone is still using it)\n",
    "\n",
    "[TTreeReaderArray](https://root.cern/doc/master/classTTreeReader.html) also falls under the current category, the style is very similar."
   ]
  },
  {
   "cell_type": "code",
   "execution_count": null,
   "metadata": {},
   "outputs": [],
   "source": [
    "\n",
    "Float_t px, py, pz;\n",
    "tree->SetBranchAddress(\"px\", &px);\n",
    "tree->SetBranchAddress(\"py\", &py);\n",
    "tree->SetBranchAddress(\"pz\", &pz);\n",
    "\n",
    "Int_t nEntries = tree->GetEntries();\n",
    "\n",
    "for (int i=0; i<5; i++) {\n",
    "    tree->GetEntry(i); //each time you call GetEntry, the values of px, py, pz are updated\n",
    "    cout <<\"Entry \"<<i <<\" : px=\" << px << \" py=\" << py << \" pz=\" << pz << endl;\n",
    "}\n"
   ]
  },
  {
   "cell_type": "markdown",
   "metadata": {},
   "source": [
    "### Now let's make a Tree ourselves\n",
    "\n",
    "Let it be a kaon tree with its momentum components, energy and the entrynumber"
   ]
  },
  {
   "cell_type": "code",
   "execution_count": null,
   "metadata": {},
   "outputs": [],
   "source": [
    "// create a TFile and Tree\n",
    "TFile *outputFile = new TFile(\"mytree.root\",\"RECREATE\");\n",
    "TTree *tree = new TTree(\"tree\",\"A simple Tree with simple variables\");\n",
    "Float_t px, py, pz, energy;\n",
    "Int_t iEvent;\n",
    "Float_t mass = 0.495; //mass of the kaon in GeV\n",
    "\n",
    "tree->Branch(\"iEvent\",&iEvent,\"iEvent/I\");\n",
    "tree->Branch(\"px\",&px,\"px/F\");\n",
    "tree->Branch(\"py\",&py,\"py/F\");\n",
    "tree->Branch(\"pz\",&pz,\"pz/F\");\n",
    "tree->Branch(\"energy\",&energy,\"energy/F\");\n"
   ]
  },
  {
   "cell_type": "markdown",
   "metadata": {},
   "source": [
    "And then fill the tree with some generated values for px, py, pz and use an energy equation to calculate mass"
   ]
  },
  {
   "cell_type": "code",
   "execution_count": null,
   "metadata": {},
   "outputs": [],
   "source": [
    "\n",
    "Int_t nEvents = 100000;\n",
    "\n",
    "for (int i=0; i<nEvents; i++) {\n",
    "    TRandom3 r(0);\n",
    "    iEvent = i;\n",
    "    px = r.Gaus(0,1); //Gaus(mean, sigma)\n",
    "    py =  r.Gaus(0,1);\n",
    "    pz =  r.Exp(2); //Exp(lambda)\n",
    "\n",
    "    energy = sqrt(px*px + py*py + pz*pz + mass*mass); \n",
    "    //now smear the energy a bit to mimic the detector resolution\n",
    "    energy = r.Gaus(energy, 0.005*energy); // 0.5% resolution on the energy \n",
    "    \n",
    "    tree->Fill(); // here is where the values are actually stored to our tree\n",
    "}\n"
   ]
  },
  {
   "cell_type": "markdown",
   "metadata": {},
   "source": [
    "The last part is to write our tree (which is currently in RAM) to the file\n"
   ]
  },
  {
   "cell_type": "code",
   "execution_count": null,
   "metadata": {},
   "outputs": [],
   "source": [
    "outputFile->cd();\n",
    "tree->Write();\n",
    "outputFile->Close();"
   ]
  },
  {
   "cell_type": "markdown",
   "metadata": {},
   "source": [
    "# RDataFrames ( The future of ROOT )"
   ]
  },
  {
   "cell_type": "markdown",
   "metadata": {},
   "source": [
    "Interface is very similar to pandas \n",
    "\n",
    "[RDataFrame documentation](https://root.cern/doc/master/classROOT_1_1RDataFrame.html)\n",
    "\n",
    "- RDF is ROOT's high-level analysis interface. \n",
    "\n",
    "- Users define their analysis as a sequence of operations to be performed on the data-frame object; \n",
    "\n",
    "    - the framework takes care of the management of the loop over entries as well as low-level details such as I/O and parallelisation.\n",
    "\n",
    "- RDataFrame provides methods to perform most common operations required by ROOT analyses: \n",
    "\n",
    "    - at the same time, users can just as easily specify custom code that will be executed in the event loop.\n",
    "    \n",
    "<img src=\"img/rdf_1.png\">"
   ]
  },
  {
   "cell_type": "markdown",
   "metadata": {},
   "source": [
    "## HEP data analysis with RDataFrame\n",
    "RDataFrame allows reading and writing trees, aiming at making HEP analysis easy to write and fast to perform."
   ]
  },
  {
   "cell_type": "code",
   "execution_count": null,
   "metadata": {},
   "outputs": [],
   "source": [
    "using namespace ROOT; // RDataFrame is in the ROOT namespace\n",
    "\n",
    "auto treename = \"tree\";\n",
    "auto fileName = \"mytree.root\";\n",
    "ROOT::RDataFrame df(treename, fileName);\n",
    "cout<<\"Dataset contents:\"<<endl;\n",
    "df.Display()->Print();\n"
   ]
  },
  {
   "cell_type": "markdown",
   "metadata": {},
   "source": [
    "Now we can `Define` new quantities, `Filter` rows based on custom expressions and retrieve some data aggregations such as a `Count` and a `Mean`:"
   ]
  },
  {
   "cell_type": "code",
   "execution_count": null,
   "metadata": {},
   "outputs": [],
   "source": [
    "auto definept = df.Define(\"pt\",\"TMath::Sqrt(TMath::Power(px,2) + TMath::Power(py,2))\");\n",
    "auto fil1 = definept.Filter(\"pz < 2\");\n",
    "\n",
    "cout<<\"Number of rows before filter:\"<< df.Count().GetValue()<<endl;\n",
    "cout<<\"Number of rows after filter:\"<< fil1.Count().GetValue()<<endl;\n",
    "\n",
    "cout<<\"Mean of column pt:\"<< fil1.Mean(\"pt\").GetValue()<<endl;\n",
    "\n",
    "fil1.Display({\"px\",\"py\",\"pt\"})->Print();"
   ]
  },
  {
   "cell_type": "code",
   "execution_count": null,
   "metadata": {},
   "outputs": [],
   "source": [
    "auto pzcut_hist = df.Filter(\"pz < 5\")\n",
    "                    .Define(\"mass\",\"TMath::Sqrt(energy*energy - px*px - py*py - pz*pz)\")\n",
    "                    .Histo1D(\"mass\");\n",
    "pzcut_hist->Draw();\n",
    "gPad->Draw();"
   ]
  },
  {
   "cell_type": "code",
   "execution_count": null,
   "metadata": {},
   "outputs": [],
   "source": [
    "auto hist2dim = df.Define(\"mass\",\"TMath::Sqrt(energy*energy - px*px - py*py - pz*pz)\")\n",
    "                  .Histo2D({\"hist2dim\", \"energy vs mass; E, GeV; m, GeV/c^2\", 200, 0, 15, 200, 0, 3},\"energy\",\"mass\");\n",
    "hist2dim -> Draw(\"colz\");\n",
    "\n",
    "gPad->Draw();\n"
   ]
  },
  {
   "cell_type": "markdown",
   "metadata": {},
   "source": [
    "# Operation categories in RDataFrame\n",
    "There are 3 main types of operations you can perform on RDataFrames:"
   ]
  },
  {
   "cell_type": "markdown",
   "metadata": {},
   "source": [
    "**Transformations**: manipulate the dataset, return a modified RDataFrame for further processing.\n",
    "\n",
    "| Transformation    | Description                                                |\n",
    "|-------------------|------------------------------------------------------------|\n",
    "| Alias()           | Introduce an alias for a particular column name.           |\n",
    "| Define()          | Creates  a new column in the dataset.                      |\n",
    "| Filter()          | Filter rows based on user-defined conditions.              |"
   ]
  },
  {
   "cell_type": "markdown",
   "metadata": {},
   "source": [
    "**Actions**: aggregate (parts of) the dataset into a result.\n",
    "\n",
    "| Action                        | Description                                                                          |\n",
    "|------------------------------------|--------------------------------------------------------------------------------------|\n",
    "| Count()                            | Return the number of events processed.                                               |\n",
    "| Display()                          | Provides a printable object representing the dataset contents.                       |\n",
    "| Graph()                            | Fills a TGraph  with the two columns provided.                                       |\n",
    "| Histo1D(), Histo2D(), Histo3D()    | Fill a one-, two-, three-dimensional histogram with the processed column values.     |\n",
    "| Max(), Min()                       | Return the maximum(minimum) of processed column values.                              |\n",
    "| Snapshot()        | Writes processed data-set to a new TTree.              |\n",
    "| ...                                | ...  "
   ]
  },
  {
   "cell_type": "markdown",
   "metadata": {},
   "source": [
    "**Queries**: these methods  query information about your dataset and the RDataFrame status.\n",
    "\n",
    "| Operation           | Description                                                                              |\n",
    "|---------------------|------------------------------------------------------------------------------------------|\n",
    "| GetColumnNames()    | Get the names of all the available columns of the dataset.                               |\n",
    "| GetColumnType()     | Return the type of a given column as a string.                                           |\n",
    "| SaveGraph()         | Export the computation graph of an RDataFrame in graphviz format for easy inspection.     |\n",
    "| ...                 | ...                                                                                      |"
   ]
  }
 ],
 "metadata": {
  "kernelspec": {
   "display_name": "ROOT C++",
   "language": "c++",
   "name": "root"
  },
  "language_info": {
   "codemirror_mode": "text/x-c++src",
   "file_extension": ".C",
   "mimetype": " text/x-c++src",
   "name": "c++"
  }
 },
 "nbformat": 4,
 "nbformat_minor": 2
}
