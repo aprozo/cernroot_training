{
 "cells": [
  {
   "cell_type": "markdown",
   "id": "db74c75d",
   "metadata": {},
   "source": [
    "# Exercise: Fitting a Lorentzian peak over a quadratic background"
   ]
  },
  {
   "cell_type": "markdown",
   "id": "29cf335b",
   "metadata": {},
   "source": [
    "Let's try to fit a slightly more complex distribution than a gaussian. The following histogram should fit well a Lorenzian peak on quadratic background.\n",
    "\n",
    "Here is the histogram:"
   ]
  },
  {
   "cell_type": "code",
   "execution_count": null,
   "id": "4c762f4b",
   "metadata": {},
   "outputs": [],
   "source": [
    "vector<Double_t> dataPoints = { 6,1,10,12,6,13,23,22,15,21,\n",
    "         23,26,36,25,27,35,40,44,66,81,\n",
    "         75,57,48,45,46,41,35,36,53,32,\n",
    "         40,37,38,31,36,44,42,37,32,32,\n",
    "         43,44,35,33,33,39,29,41,32,44,\n",
    "         26,39,29,35,32,21,21,15,25,15 };\n",
    "\n",
    "TString title = \"Lorentzian Peak on Quadratic Background\";\n",
    "TH1D*  hist = new TH1D(\"hist\", title, 60, 0, 3);\n",
    "\n",
    "for  (int i = 0; i < dataPoints.size(); i++) {\n",
    "   hist->SetBinContent(i+1, dataPoints[i]) ;// bin 0 is the underflow bin!\n",
    "   hist->SetBinError(i+1, sqrt(dataPoints[i])); // statistical error for Poisson data distribution\n",
    "}\n"
   ]
  },
  {
   "cell_type": "code",
   "execution_count": null,
   "id": "975aafa9",
   "metadata": {},
   "outputs": [],
   "source": [
    "%jsroot on\n",
    "TCanvas* c1 = new TCanvas(\"c1\",\"c1\",600,600);\n",
    "\n",
    "hist->Draw();\n",
    "c1->Draw();"
   ]
  },
  {
   "cell_type": "markdown",
   "id": "5e42eb91",
   "metadata": {},
   "source": [
    "## Fitting a histogram"
   ]
  },
  {
   "cell_type": "markdown",
   "id": "bf48020c",
   "metadata": {},
   "source": [
    "We will need a `TF1` that represents the function we want to use for the fit.\n",
    "\n",
    "This time we define our `TF1` as a C++ function. Here we define a simple second-order polynomial 3 parameters (`par[0]`, `par[1]` and `par[2]`). Here are the functions we will use; a quadratic background function:"
   ]
  },
  {
   "cell_type": "code",
   "execution_count": null,
   "id": "37e76347",
   "metadata": {},
   "outputs": [],
   "source": [
    "double background(double *x, double *par) {\n",
    "  return par[0] + par[1]*x[0] + par[2]*x[0]*x[0];\n",
    "}"
   ]
  },
  {
   "cell_type": "markdown",
   "id": "8a1fdf29",
   "metadata": {},
   "source": [
    "A function for the Lorenzian peak (N.B. for simplicity we already put the peak in the right place :) )"
   ]
  },
  {
   "cell_type": "code",
   "execution_count": null,
   "id": "4bc4f535",
   "metadata": {},
   "outputs": [],
   "source": [
    "double lorentzianPeak(double *x, double *par) {\n",
    "  return (0.5*par[0]*0.2/TMath::Pi())\n",
    "         / TMath::Max(1.e-10, (x[0] - 1.)*(x[0] - 1.) + 0.25*0.04);\n",
    "}"
   ]
  },
  {
   "cell_type": "markdown",
   "id": "ca4cf200",
   "metadata": {},
   "source": [
    "...and our fit function is the sum of background and peak functions:"
   ]
  },
  {
   "cell_type": "code",
   "execution_count": null,
   "id": "62caceb0",
   "metadata": {},
   "outputs": [],
   "source": [
    "double fitFunction(double *x, double *par) {\n",
    "  return background(x, par) + lorentzianPeak(x, &par[3]);\n",
    "}"
   ]
  },
  {
   "cell_type": "markdown",
   "id": "fd9a33a4",
   "metadata": {},
   "source": [
    "**Expected result:**"
   ]
  },
  {
   "cell_type": "markdown",
   "id": "f6dc69ef",
   "metadata": {},
   "source": [
    "<center><img src=\"img/fitLorentz.png\"></center>"
   ]
  },
  {
   "cell_type": "markdown",
   "id": "ea5760aa",
   "metadata": {},
   "source": [
    "**Useful doc links:**\n",
    "\n",
    "- [TH1](https://root.cern/doc/master/classTH1.html)\n",
    "- [TF1](https://root.cern.ch/doc/master/classTF1.html)\n",
    "- [TH1::Fit](https://root.cern.ch/doc/master/classTH1.html#a63eb028df86bc86c8e20c989eb23fb2a)"
   ]
  },
  {
   "cell_type": "code",
   "execution_count": null,
   "id": "0465f0eb",
   "metadata": {},
   "outputs": [],
   "source": [
    "//  Play with the histogram here. You will have to:\n",
    "//  - define a TF1 object that represents the fit function\n",
    "//  - fit the histogram with that function\n",
    "//  - draw the result (how do you plot the error bars? :) )\n"
   ]
  },
  {
   "cell_type": "markdown",
   "id": "209c77a4",
   "metadata": {},
   "source": [
    "## Solution"
   ]
  },
  {
   "cell_type": "markdown",
   "id": "fce04dbc",
   "metadata": {},
   "source": [
    "<details>\n",
    "    <summary><b>Click on this text to show the solution</b></summary>\n",
    "<pre>\n",
    "\n",
    "TF1 * myfunc = new TF1(\"myfunc\", fitFunction, 0, 3, 4); // \n",
    "hist->Fit(myfunc);\n",
    "hist->Draw();\n",
    "gPad->Draw();\n",
    "\n",
    "</pre>\n",
    "</details>"
   ]
  }
 ],
 "metadata": {
  "kernelspec": {
   "display_name": "ROOT C++",
   "language": "c++",
   "name": "root"
  },
  "language_info": {
   "codemirror_mode": "text/x-c++src",
   "file_extension": ".C",
   "mimetype": " text/x-c++src",
   "name": "c++"
  }
 },
 "nbformat": 4,
 "nbformat_minor": 5
}
