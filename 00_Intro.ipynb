{
 "cells": [
  {
   "cell_type": "markdown",
   "metadata": {},
   "source": [
    "# What is ROOT?\n",
    "\n",
    "- ROOT is a software framework that can be used for:\n",
    "  - Data processing\n",
    "  - Data analysis\n",
    "  - Data visualisation\n",
    "  - Data storage\n",
    "  \n",
    "\n",
    "- ROOT is written mainly in **C++**, with powerful **Python** bindings\n",
    "\n",
    "- Adopted in High Energy Physics and other sciences (but also industry)\n",
    "  - **1 EB** of data in ROOT format\n",
    "  - Fits and parameters’ estimations for discoveries (e.g. the Higgs)\n",
    "  - Thousands of ROOT plots in scientific publications\n",
    "## ROOT's building blocks\n",
    "\n",
    "ROOT can be seen as a collection of building blocks for various activities, such as:\n",
    "- **Data analysis: histograms, graphs, functions**\n",
    "- **High-level analysis interfaces**: RDataFrame\n",
    "- **Statistical tools** (RooFit/RooStats): rich modeling and statistical inference\n",
    "- **I/O**: storage of any C++ object, **column-wise** storage of datasets\n",
    "- **Math**: non-trivial functions (e.g. Erf, Bessel), optimised math functions\n",
    "- **C++ interpretation**: full language compliance\n",
    "- **Multivariate analysis** (TMVA): e.g. Boosted decision trees, Neural Nets\n",
    "- **Advanced graphics** (2D, 3D, event display)\n",
    "- And more: HTTP servering,  JavaScript visualisation\n",
    "<center><img src=\"img/root1.png\"></center>\n",
    "\n",
    "# Today's goals\n",
    "\n",
    "- be able to conduct simple data analysis using ROOT\n",
    "- get familiar with basic ROOT features: histograms, graphs, functions\n",
    "- get to know what ROOT file format is\n",
    "- don't be afraid of reaching out, asking questions and contributing\n",
    "\n",
    "## Useful links\n",
    "\n",
    "- ROOT users forum (for questions, support, discussion): https://root-forum.cern.ch\n",
    "\n",
    "- ROOT guide for beginners: https://root.cern/primer/\n",
    "\n",
    "- ROOT tutorials grouped by topic: https://root.cern/doc/master/group__Tutorials.html\n",
    "\n",
    "- ROOT website: https://root.cern\n",
    "\n",
    "- ROOT GitHub repository: https://github.com/root-project/root\n",
    "\n",
    "- ROOT training material: https://github.com/root-project/training"
   ]
  },
  {
   "cell_type": "markdown",
   "metadata": {},
   "source": []
  }
 ],
 "metadata": {
  "kernelspec": {
   "display_name": "ROOT C++",
   "language": "c++",
   "name": "root"
  },
  "language_info": {
   "codemirror_mode": "text/x-c++src",
   "file_extension": ".C",
   "mimetype": " text/x-c++src",
   "name": "c++"
  }
 },
 "nbformat": 4,
 "nbformat_minor": 2
}
