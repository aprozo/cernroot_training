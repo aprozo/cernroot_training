{
 "cells": [
  {
   "cell_type": "markdown",
   "metadata": {},
   "source": [
    "# Filling an n-tuple (simulating the conductivity of a material in different conditions of pressure and temperature) and writing it to a file\n",
    "<hr style=\"border-top-width: 4px; border-top-color: #34609b;\">\n",
    "\n",
    "To use the ROOT toolkit, we need to import ROOT onto our Notebook, which we also set to C++"
   ]
  },
  {
   "cell_type": "markdown",
   "metadata": {},
   "source": [
    "### The Tree\n",
    "We create a file which will contain our tree.\n"
   ]
  },
  {
   "cell_type": "code",
   "execution_count": null,
   "metadata": {
    "collapsed": true
   },
   "outputs": [],
   "source": [
    "TFile outputfile(\"pi02photons.root\",\"RECREATE\");\n",
    "TTree my_tree(\"my_tree\",\"Example Tree\",\"px\");"
   ]
  },
  {
   "cell_type": "markdown",
   "metadata": {},
   "source": [
    "Then we fill it randomly (to simulate acquired data) using the TRandom3 random generator.\n",
    "We are also applying some \"smearing\" (measurement errors)"
   ]
  },
  {
   "cell_type": "code",
   "execution_count": null,
   "metadata": {},
   "outputs": [],
   "source": [
    " const Int_t kMaxTrack = 500;\n",
    " Int_t ntrack;\n",
    " Int_t stat[kMaxTrack];\n",
    " Int_t sign[kMaxTrack];\n",
    " Float_t px[kMaxTrack];\n",
    " Float_t py[kMaxTrack];\n",
    " Float_t pz[kMaxTrack];\n",
    " Float_t pt[kMaxTrack];\n",
    " Float_t zv[kMaxTrack];\n",
    " Float_t chi2[kMaxTrack];\n",
    " Double_t sumstat;\n",
    " \n",
    " TFile f(\"tree3.root\",\"recreate\");\n",
    " TTree *t3 = new TTree(\"t3\",\"Reconst ntuple\");\n",
    " t3->Branch(\"ntrack\",&ntrack,\"ntrack/I\");\n",
    " t3->Branch(\"stat\",stat,\"stat[ntrack]/I\");\n",
    " t3->Branch(\"sign\",sign,\"sign[ntrack]/I\");\n",
    " t3->Branch(\"px\",px,\"px[ntrack]/F\");\n",
    " t3->Branch(\"py\",py,\"py[ntrack]/F\");\n",
    " t3->Branch(\"pz\",pz,\"pz[ntrack]/F\");\n",
    " t3->Branch(\"zv\",zv,\"zv[ntrack]/F\");\n",
    " t3->Branch(\"chi2\",chi2,\"chi2[ntrack]/F\");\n",
    " \n",
    " TFile fr(\"tree3f.root\",\"recreate\");\n",
    " TTree *t3f = new TTree(\"t3f\",\"a friend Tree\");\n",
    " t3f->Branch(\"ntrack\",&ntrack,\"ntrack/I\");\n",
    " \n",
    " t3f->Branch(\"sumstat\",&sumstat,\"sumstat/D\");\n",
    " t3f->Branch(\"pt\",pt,\"pt[ntrack]/F\");\n",
    " \n",
    " for (Int_t i=0;i<1000;i++) {\n",
    " Int_t nt = gRandom->Rndm()*(kMaxTrack-1);\n",
    " ntrack = nt;\n",
    " sumstat = 0;\n",
    " for (Int_t n=0;n<nt;n++) {\n",
    " stat[n] = n%3;\n",
    " sign[n] = i%2;\n",
    " px[n] = gRandom->Gaus(0,1);\n",
    " py[n] = gRandom->Gaus(0,2);\n",
    " pz[n] = gRandom->Gaus(10,5);\n",
    " zv[n] = gRandom->Gaus(100,2);\n",
    " chi2[n] = gRandom->Gaus(0,.01);\n",
    " sumstat += chi2[n];\n",
    " pt[n] = TMath::Sqrt(px[n]*px[n] + py[n]*py[n]);\n",
    " }\n",
    " t3->Fill();\n",
    " t3f->Fill();\n",
    " }\n",
    " t3->Print();\n",
    " f.cd();\n",
    " t3->Write();\n",
    " fr.cd();\n",
    " t3f->Write()\n",
    "\n",
    " TRandom3 rndm;\n",
    "float pot,cur,temp,pres;\n",
    "for (int i=0;i<10000;++i){\n",
    "\n",
    "    cond_data.Fill(pot,cur,temp,pres);\n",
    "}"
   ]
  },
  {
   "cell_type": "markdown",
   "metadata": {},
   "source": [
    "Save the TNtuple and close the file."
   ]
  },
  {
   "cell_type": "code",
   "execution_count": null,
   "metadata": {
    "collapsed": true
   },
   "outputs": [],
   "source": [
    "cond_data.Write();\n",
    "ofile.Close();"
   ]
  },
  {
   "cell_type": "code",
   "execution_count": null,
   "metadata": {},
   "outputs": [],
   "source": []
  }
 ],
 "metadata": {
  "kernelspec": {
   "display_name": "ROOT C++",
   "language": "c++",
   "name": "root"
  },
  "language_info": {
   "codemirror_mode": "text/x-c++src",
   "file_extension": ".C",
   "mimetype": " text/x-c++src",
   "name": "c++"
  }
 },
 "nbformat": 4,
 "nbformat_minor": 0
}
